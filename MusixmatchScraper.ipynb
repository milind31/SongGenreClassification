{
  "nbformat": 4,
  "nbformat_minor": 0,
  "metadata": {
    "colab": {
      "name": "MusixmatchScraper.ipynb",
      "provenance": []
    },
    "kernelspec": {
      "name": "python3",
      "display_name": "Python 3"
    },
    "language_info": {
      "name": "python"
    }
  },
  "cells": [
    {
      "cell_type": "markdown",
      "metadata": {
        "id": "7t1cnsxXL8XJ"
      },
      "source": [
        "This notebook will be used to scrape data from https://www.musixmatch.com/ and save it in a .csv file."
      ]
    },
    {
      "cell_type": "code",
      "metadata": {
        "id": "31oWT5I4LnEP"
      },
      "source": [
        "import urllib\n",
        "from urllib import request\n",
        "import random\n",
        "import time\n",
        "import re\n",
        "import pandas as pd"
      ],
      "execution_count": null,
      "outputs": []
    },
    {
      "cell_type": "code",
      "metadata": {
        "id": "x4fCMDefMHbM"
      },
      "source": [
        "#sometimes when the website doesn't have the lyrics for a song, the lyrics on the page will be shown as the following:\n",
        "no_lyrics = 'Hang on. We took anchor like a ship from distant times. We all started a wonderful journey together. Warm hearts, saints, truths, beautiful smiles. How nice we loved each other. Time has changed like a dark shadow and iceberg. This long journey was very tiring. The expected major collision is taking place. Cold hearts, laws, lies, false smiles. Everybody you love is cruelly ignoring. The sun no longer rises in the morning. The last part of the game will be very dramatic. We forgot Noahs breath. Why did everyone become enemies? Living is not a game. Living is not a game. This is not a game. Hang on a little longer. Hang on. Hang on. Hang on. Hang on a little longer. Hang on. Hang on. Hang on. I feel like shes gonna fall. My journey is over. Stop the world. Take me down. The dream is over. The dream is over. The dream is over. He said wake up. Wake up. Hang on a little longer. Hang on. Hang on. Hang on. Hang on a little longer. Hang on. Hang on. Hang on.'"
      ],
      "execution_count": null,
      "outputs": []
    },
    {
      "cell_type": "code",
      "metadata": {
        "id": "IuNNdEapMMe9"
      },
      "source": [
        "rap_album_urls = [] #temporarily empty for display purposes, actual urls used are listed at the bottom of this notebook\n",
        "rb_album_urls = []\n",
        "\n",
        "rap_urls = []\n",
        "rap_song_names = []\n",
        "rb_urls = []\n",
        "rb_song_names = []\n",
        "\n",
        "def get_links_from_album(album_urls, song_names):\n",
        "  song_urls = []\n",
        "  i = 1\n",
        "  for url in album_urls:\n",
        "    time.sleep(10)\n",
        "    request = urllib.request.Request(url,headers={'User-Agent': user_agent})\n",
        "    try:\n",
        "      html = urllib.request.urlopen(request).read()\n",
        "      match_urls = re.findall('\\\"><a href=\\\"(\\/lyrics/.*?)\\\"', str(html)) #likes\n",
        "      match_titles = re.findall('\\\"xboxmusicId\\\":.*?\\\"name\\\":\\\"(.*?)\\\",\\\"nameTranslationList\\\":', str(html))\n",
        "      for song_url in match_urls:\n",
        "        song_urls.append(\"https://www.musixmatch.com\" + song_url)\n",
        "      for title in match_titles:\n",
        "        song_names.append(str(title))\n",
        "      #print(i)\n",
        "    except:\n",
        "      print('failure')\n",
        "      continue\n",
        "    i += 1\n",
        "  print(song_urls)\n",
        "  return song_urls\n",
        "\n",
        "rap_urls = get_links_from_album(rap_album_urls, rap_song_names)\n",
        "print(\"moving on to r&b\")\n",
        "rb_urls = get_links_from_album(rb_album_urls, rb_song_names)"
      ],
      "execution_count": null,
      "outputs": []
    },
    {
      "cell_type": "code",
      "metadata": {
        "id": "rp8XLAofMcTZ"
      },
      "source": [
        "#make sure duplicate song names are more easily detected\n",
        "rap_song_names = list(map(lambda x:x.lower(), rap_song_names))\n",
        "rb_song_names = list(map(lambda x:x.lower(), rb_song_names))\n",
        "country_song_names = list(map(lambda x:x.lower(), country_song_names))\n",
        "\n",
        "rap_song_names = list(map(lambda x: re.sub(' \\(.*?\\)', '', x), rap_song_names))\n",
        "rb_song_names = list(map(lambda x: re.sub(' \\(.*?\\)', '', x), rb_song_names))\n",
        "country_song_names = list(map(lambda x: re.sub(' \\(.*?\\)', '', x), country_song_names))"
      ],
      "execution_count": null,
      "outputs": []
    },
    {
      "cell_type": "code",
      "metadata": {
        "id": "8CF7f3AfMeMA"
      },
      "source": [
        "#get lyrics from song urls\n",
        "lyrics_list = []\n",
        "titles_list = []\n",
        "genres = []\n",
        "\n",
        "def get_lyrics(urls, titles, genre):\n",
        "  i = 1\n",
        "  for url in urls:\n",
        "    if i > 1 and titles[i-1] == titles[i-2]:\n",
        "        print(str(i) + ': duplicate')\n",
        "        i += 1\n",
        "        continue\n",
        "    time.sleep(random.randint(5,15))\n",
        "    request = urllib.request.Request(url,headers={'User-Agent': user_agent})\n",
        "    try:\n",
        "      html = urllib.request.urlopen(request).read()\n",
        "      match_lyrics = re.search('\\\"lyrics\\\":.*?body\\\":\\\"(.*?)\\\",', str(html)) #likes\n",
        "      lyrics = match_lyrics.group(1)\n",
        "      lyrics = re.sub(r\"\\\\n\", ' ', lyrics)\n",
        "      lyrics = re.sub(r\"\\\\+\", '', lyrics)\n",
        "      lyrics_final = re.sub(r\"'\", \"\", str(lyrics))\n",
        "      print(i)\n",
        "      if lyrics_final == no_lyrics:\n",
        "        i += 1\n",
        "        continue\n",
        "      lyrics_list.append(lyrics_final)\n",
        "      titles_list.append(titles[i-1])\n",
        "      genres.append(genre)\n",
        "    except:\n",
        "      print('failure')\n",
        "    i += 1\n",
        "    if i % 75 == 0 and i != 0:\n",
        "      print('taking a 15 min nap')\n",
        "      time.sleep(random.randint(840,960))\n",
        "\n",
        "get_lyrics(rap_urls, rap_song_names, \"Rap\")\n",
        "get_lyrics(rb_urls, rb_song_names, \"R&B\")"
      ],
      "execution_count": null,
      "outputs": []
    },
    {
      "cell_type": "code",
      "metadata": {
        "id": "4hG9EIdUMg4f"
      },
      "source": [
        "data = {'Title' : titles_list, 'Lyrics' : lyrics_list, 'Genre' : genres}\n",
        "df = pd.DataFrame(data)"
      ],
      "execution_count": null,
      "outputs": []
    },
    {
      "cell_type": "code",
      "metadata": {
        "id": "K_EldFNgMhbH"
      },
      "source": [
        "#one final step to remove any more duplicates\n",
        "df.Title = df.Title.replace(to_replace =' \\(.*?\\)', value = '', regex = True).str.lower()\n",
        "df = df.drop_duplicates(subset=['Title'], ignore_index=True)"
      ],
      "execution_count": null,
      "outputs": []
    },
    {
      "cell_type": "code",
      "metadata": {
        "id": "AiJeTddeMi4c"
      },
      "source": [
        "df.to_csv('rap_r&b13.csv')  #save table"
      ],
      "execution_count": null,
      "outputs": []
    },
    {
      "cell_type": "markdown",
      "metadata": {
        "id": "K4MqDB3rNXug"
      },
      "source": [
        "Below are all of the album urls I used:"
      ]
    },
    {
      "cell_type": "code",
      "metadata": {
        "id": "UHa7jO7sNWLm"
      },
      "source": [
        "#get song urls from albums\n",
        "#rap_album_urls = ['https://www.musixmatch.com/album/Kid-Cudi/Man-On-the-Moon-III-The-Chosen', 'https://www.musixmatch.com/album/Roddy-Ricch/Please-Excuse-Me-For-Being-Antisocial', 'https://www.musixmatch.com/album/Travis-Scott/ASTROWORLD', 'https://www.musixmatch.com/album/Lil-Uzi-Vert/Eternal-Atake', 'https://www.musixmatch.com/album/Lil-Yachty/Lil-Boat-3-1', 'https://www.musixmatch.com/album/21-Savage/SAVAGE-MODE-II', 'https://www.musixmatch.com/album/Lil-Tecca/Virgo-World', 'https://www.musixmatch.com/album/G-Herbo/PTSD', 'https://www.musixmatch.com/album/Polo-G-2/THE-GOAT', 'https://www.musixmatch.com/album/Gunna-3/WUNNA-2']\n",
        "#rap_album_urls = ['https://www.musixmatch.com/album/Juice-Wrld/Legends-Never-Die', 'https://www.musixmatch.com/album/Pop-Smoke/Shoot-For-The-Stars-Aim-For-The-Moon', 'https://www.musixmatch.com/album/Juice-Wrld/Legends-Never-Die', 'https://www.musixmatch.com/album/Megan-Thee-Stallion/Good-News-3', 'https://www.musixmatch.com/album/Lil-Baby-4/My-Turn', 'https://www.musixmatch.com/album/The-Kid-Laroi/F-CK-LOVE-1', 'https://www.musixmatch.com/album/Juice-Wrld/Death-Race-for-Love-2', 'https://www.musixmatch.com/album/Juice-Wrld/Goodbye-Good-Riddance', 'https://www.musixmatch.com/album/Eminem/Music-To-Be-Murdered-By-Side-B-Deluxe-Edition', 'https://www.musixmatch.com/album/Eminem/Music-To-Be-Murdered-By-1']\n",
        "#rap_album_urls = ['https://www.musixmatch.com/album/Big-Sean/Detroit-2', 'https://www.musixmatch.com/album/Logic-1/No-Pressure', 'https://www.musixmatch.com/album/Cardi-B/Invasion-of-Privacy-2', 'https://www.musixmatch.com/album/Smokepurpp-2/Deadstar-2', 'https://www.musixmatch.com/album/Smokepurpp-2/Florida-Jit', 'https://www.musixmatch.com/album/Denzel-Curry/ZUU', 'https://www.musixmatch.com/album/Denzel-Curry/TA13OO-3', 'https://www.musixmatch.com/album/Nav-6/Emergency-Tsunami', 'https://www.musixmatch.com/album/Nav-6/Good-Intentions', 'https://www.musixmatch.com/album/Nav-6/Bad-Habits']\n",
        "#rap_album_urls = ['https://www.musixmatch.com/album/DaBaby/My-Brother-s-Keeper-Long-Live-G', 'https://www.musixmatch.com/album/DaBaby/BLAME-IT-ON-BABY', 'https://www.musixmatch.com/album/DaBaby/KIRK-2', 'https://www.musixmatch.com/album/DaBaby/Baby-On-Baby', 'https://www.musixmatch.com/album/Pusha-T/DAYTONA', 'https://www.musixmatch.com/album/Meek-Mill/QUARANTINE-PACK', 'https://www.musixmatch.com/album/Sheck-Wes/MUDBOY', 'https://www.musixmatch.com/album/6IX9INE/TattleTales', 'https://www.musixmatch.com/album/6IX9INE/DUMMY-BOY', 'https://www.musixmatch.com/album/Migos/Culture-II']\n",
        "#rb_album_urls = ['https://www.musixmatch.com/album/The-Weeknd-3/After-Hours-1', 'https://www.musixmatch.com/album/The-Weeknd/Beauty-Behind-the-Madness', 'https://www.musixmatch.com/album/SZA/Ctrl', 'https://www.musixmatch.com/album/Jhene-Aiko/Chilombo', 'https://www.musixmatch.com/album/Khali-D/Free-Spirit-2', 'https://www.musixmatch.com/album/Khali-D/Suncity', 'https://www.musixmatch.com/album/Khali-D/American-Teen', 'https://www.musixmatch.com/album/Doja-Cat/Hot-Pink', 'https://www.musixmatch.com/album/Summer-Walker/Over-It-1', 'https://www.musixmatch.com/album/Ty-Dolla-ign-2/uring-Ty-Dolla-ign-1']\n",
        "#rb_album_urls = ['https://www.musixmatch.com/album/Kehlani-2/It-Was-Good-Until-It-Wasn-t', 'https://www.musixmatch.com/album/Chloe-x-Halle/Ungodly-Hour-1', 'https://www.musixmatch.com/album/Brent-Faiyaz/Fuck-The-World', 'https://www.musixmatch.com/album/Teyana-Taylor/The-Album', 'https://www.musixmatch.com/album/Brandy/B7', 'https://www.musixmatch.com/album/Giveon/When-It-s-All-Said-And-Done', 'https://www.musixmatch.com/album/John-Legend/Bigger-Love-4', 'https://www.musixmatch.com/album/Thundercat/It-Is-What-It-Is', 'https://www.musixmatch.com/album/dvsn/Amusing-Her-Feelings', 'https://www.musixmatch.com/album/Trey-Songz/Back-Home']\n",
        "#rb_album_urls = ['https://www.musixmatch.com/album/K-Michelle/Supahood', 'https://www.musixmatch.com/album/Luke-James/blow', 'https://www.musixmatch.com/album/Durand-Bernarr/Dur', 'https://www.musixmatch.com/album/Alicia-Keys/ALICIA', 'https://www.musixmatch.com/album/Jessie-Reyez/BEFORE-LOVE-CAME-TO-KILL-US-2', 'https://www.musixmatch.com/album/Ledisi/The-Wild-Card', 'https://www.musixmatch.com/album/Giveon/TAKE-TIME', 'https://www.musixmatch.com/album/Aloe-Blacc/All-Love-Everything-1', 'https://www.musixmatch.com/album/dvsn/A-Muse-In-Her-Feelings-1', 'https://www.musixmatch.com/album/Ro-James/MANTIC', 'https://www.musixmatch.com/album/Kehlani-2/While-We-Wait']\n",
        "#rb_album_urls = ['https://www.musixmatch.com/album/Chris-Brown/Indigo', 'https://www.musixmatch.com/album/Jeremih/MIH-TY', 'https://www.musixmatch.com/album/6LACK-1/6pc-Hot-EP', 'https://www.musixmatch.com/album/6lack/East-Atlanta-Love-Letter-2', 'https://www.musixmatch.com/album/Masego/Lady-Lady-2', 'https://www.musixmatch.com/album/Jacquees-4/King-of-R-B', 'https://www.musixmatch.com/album/Jacquees-4/Christmas-In-Decatur', 'https://www.musixmatch.com/album/Jacquees/4275-3', 'https://www.musixmatch.com/album/Ne-Yo/GOOD-MAN-2', 'https://www.musixmatch.com/album/Bryson-Tiller/A-N-N-I-V-E-R-S-A-R-Y-1', 'https://www.musixmatch.com/album/Ari-Lennox/Shea-Butter-Baby-2', 'https://www.musixmatch.com/album/PARTYNEXTDOOR/PARTYPACK', 'https://www.musixmatch.com/album/PARTYNEXTDOOR/PARTYMOBILE-2']\n",
        "#rb_album_urls = ['https://www.musixmatch.com/album/Lucky-Daye/Painted', 'https://www.musixmatch.com/album/India-Arie/Worthy-2', 'https://www.musixmatch.com/album/Jamila-Woods/LEGACY-LEGACY', 'https://www.musixmatch.com/album/Solange/When-I-Get-Home', 'https://www.musixmatch.com/album/Anderson-Paak/Ventura', 'https://www.musixmatch.com/album/BJ-the-Chicago-Kid/1123', 'https://www.musixmatch.com/album/Raphael-Saadiq/Jimmy-Lee', 'https://www.musixmatch.com/album/SiR-3/Chasing-Summer', 'https://www.musixmatch.com/album/Gallant/Sweet-Insomnia', 'https://www.musixmatch.com/album/Mahalia/LOVE-AND-COMPROMISE-2', 'https://www.musixmatch.com/album/Johnta-Austin/Love-Sex-Religion', 'https://www.musixmatch.com/album/PJ-Morton/PAUL']\n",
        "#rap_album_urls = ['https://www.musixmatch.com/album/Freddie-Gibbs/Freddie', 'https://www.musixmatch.com/album/Megan-Thee-Stallion/Suga', 'https://www.musixmatch.com/album/Megan-Thee-Stallion/Fever', 'https://www.musixmatch.com/album/BENNY-THE-BUTCHER/The-Plugs-I-Met', 'https://www.musixmatch.com/album/YBN-Cordae/The-Lost-Boy-3', 'https://www.musixmatch.com/album/Saba-7/CARE-FOR-ME', 'https://www.musixmatch.com/album/J-Cole/KOD', 'https://www.musixmatch.com/album/JID-2/DiCaprio-2', 'https://www.musixmatch.com/album/Royce-da-5-9/The-Allegory', 'https://www.musixmatch.com/album/Royce-da-5-9/Book-of-Ryan', 'https://www.musixmatch.com/album/Vince-Staples-2/FM', 'https://www.musixmatch.com/album/Metro-Boomin/NOT-ALL-HEROES-WEAR-CAPES', 'https://www.musixmatch.com/album/Playboi-Carti/Whole-Lotta-Red', 'https://www.musixmatch.com/album/Playboi-Carti/Die-Lit', 'https://www.musixmatch.com/album/Jay-Rock/Redemption-2']\n",
        "#rb_album_urls = ['https://www.musixmatch.com/album/Teyana-Taylor/K-T-S-E', 'https://www.musixmatch.com/album/Cautious-Clay/Blood-Type-2', 'https://www.musixmatch.com/album/Lucky-Daye/I', 'https://www.musixmatch.com/album/SiR-3/November', 'https://www.musixmatch.com/album/Marsha-Ambrosius/Nyla','https://www.musixmatch.com/album/Ella-Mai/Ella-Mai', 'https://www.musixmatch.com/album/Jacob-Banks/Village', 'https://www.musixmatch.com/album/Jorja-Smith/Lost-Found-2', 'https://www.musixmatch.com/album/Kali-Uchis-2/Isolation', 'https://www.musixmatch.com/album/The-Internet/Hive-Mind', 'https://www.musixmatch.com/album/H-E-R-2/I-Used-To-Know-Her', 'https://www.musixmatch.com/album/Vanjess/Silk-Canvas', 'https://www.musixmatch.com/album/Macy-Gray/Ruby-2', 'https://www.musixmatch.com/album/Leon-Bridges/Good-Thing', 'https://www.musixmatch.com/album/Mariah-Carey/Caution-2']\n",
        "#rb_album_urls = ['https://www.musixmatch.com/album/Jhene-Aiko/Trip', 'https://www.musixmatch.com/album/Mary-J-Blige/Strength-of-a-Woman-2', 'https://www.musixmatch.com/album/Chloe-x-Halle/The-Two-of-Us', 'https://www.musixmatch.com/album/Brent-Faiyaz/Sonder-Son', 'https://www.musixmatch.com/album/H-E-R-2/H-E-R', 'https://www.musixmatch.com/album/Majid-Jordan/The-Space-Between', 'https://www.musixmatch.com/album/Moses-Sumney-2/Aromanticism', 'https://www.musixmatch.com/album/Thundercat/Drunk-6', 'https://www.musixmatch.com/album/Kehlani-2/SweetSexySavage', 'https://www.musixmatch.com/album/Syd-7/Fin', 'https://www.musixmatch.com/album/Sampha/Process', 'https://www.musixmatch.com/album/Daniel-Caesar/Freudian', 'https://www.musixmatch.com/album/Kelela/Take-Me-Apart', 'https://www.musixmatch.com/album/Sharon-Jones-The-Dap-Kings-2/Soul-of-a-Woman']\n",
        "#rap_album_urls = ['https://www.musixmatch.com/album/Tee-Grizzley/The-Smartest', 'https://www.musixmatch.com/album/Tee-Grizzley/Scriptures', 'https://www.musixmatch.com/album/Tee-Grizzley/Still-My-Moment', 'https://www.musixmatch.com/album/Tee-Grizzley/Activated', 'https://www.musixmatch.com/album/Lil-Pump/Harverd-Dropout-3', 'https://www.musixmatch.com/album/Lil-Pump/Lil-Pump-2', 'https://www.musixmatch.com/album/Lil-Keed-2/Trapped-On-Cleveland-3', 'https://www.musixmatch.com/album/Lil-Keed-2/Long-Live-Mexico', 'https://www.musixmatch.com/album/NLE-Choppa/From-Dark-to-Light', 'https://www.musixmatch.com/album/NLE-Choppa/Top-Shotta', 'https://www.musixmatch.com/album/2-Chainz/Rap-Or-Go-To-The-League', 'https://www.musixmatch.com/album/2-Chainz/Pretty-Girls-Like-Trap-Music-6', 'https://www.musixmatch.com/album/Gucci-Mane-14/So-Icy-Gang-Vol-1', 'https://www.musixmatch.com/album/Gucci-Mane-14/East-Atlanta-Santa-3-1', 'https://www.musixmatch.com/album/Gucci-Mane-11/Woptober-II-1', 'https://www.musixmatch.com/album/Gucci-Mane/Delusions-of-Grandeur', 'https://www.musixmatch.com/album/Gucci-Mane/Evil-Genius-2']\n",
        "#country_album_urls = ['https://www.musixmatch.com/album/Brett-Kissel/Now-or-Never', 'https://www.musixmatch.com/album/Dustin-Lynch/Good-Girl', 'https://www.musixmatch.com/album/Marcus-King/El-Dorado-1', 'https://www.musixmatch.com/album/Muscadine-Bloodline/Burn-It-at-Both-Ends-1', 'https://www.musixmatch.com/album/Muscadine-Bloodline/Boys', 'https://www.musixmatch.com/album/Brent-Cobb/Keep-Em-on-They-Toes', 'https://www.musixmatch.com/album/Brent-Cobb/Providence-Canyon', 'https://www.musixmatch.com/album/Brent-Cobb/Shine-on-Rainy-Day-2', 'https://www.musixmatch.com/album/The-Cadillac-Three-1/COUNTRY-FUZZ', 'https://www.musixmatch.com/album/The-Cadillac-Three/Legacy', 'https://www.musixmatch.com/album/John-Moreland/East-October', 'https://www.musixmatch.com/album/The-SteelDrivers/Bad-For-You', 'https://www.musixmatch.com/album/Tenille-Townes/The-Lemonade-Stand', 'https://www.musixmatch.com/album/Carly-Pearce/Closer-To-You', 'https://www.musixmatch.com/album/Carly-Pearce/Every-Little-Thing-2', 'https://www.musixmatch.com/album/Stephanie-Quayle/If-I-Was-a-Cowboy-Acoustic', 'https://www.musixmatch.com/album/Jon-Wolfe/Feels-Like-Country-Music', 'https://www.musixmatch.com/album/Jon-Wolfe/Any-Night-in-Texas', 'https://www.musixmatch.com/album/Hailey-Whitters/The-Days-1', 'https://www.musixmatch.com/album/Sarah-Morey-2/A-Long-Way-to-Go-EP', 'https://www.musixmatch.com/album/The-Secret-Sisters/Cabin-Single', 'https://www.musixmatch.com/album/The-Secret-Sisters/You-Don-t-Own-Me-Anymore', 'https://www.musixmatch.com/album/Trea-Landon/Dirt-Road-Dancin']"
      ],
      "execution_count": null,
      "outputs": []
    }
  ]
}