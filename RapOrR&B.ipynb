{
  "nbformat": 4,
  "nbformat_minor": 0,
  "metadata": {
    "colab": {
      "name": "RapOrR&B.ipynb",
      "provenance": [],
      "collapsed_sections": []
    },
    "kernelspec": {
      "name": "python3",
      "display_name": "Python 3"
    }
  },
  "cells": [
    {
      "cell_type": "markdown",
      "metadata": {
        "id": "DAJAj75C9YMd"
      },
      "source": [
        "The goal of this project is to predict the genre (either Rap or R&B) of a song solely based off of the song's lyrics. To get song lyric data, I scraped https://www.musixmatch.com/. The website was very sensitive to making many requests in a short period of time, so my scraping script takes a lot of pauses and was used in batches to collect songs from 10-20 albums of each genre at a time. There was also a very big problem with albums listing the same song several times in a row with slightly different lyrics listed. I had to take several measures in my code to fix problems associated with this."
      ]
    },
    {
      "cell_type": "code",
      "metadata": {
        "id": "aSnceDLTKdv7"
      },
      "source": [
        "#imports\n",
        "import nltk\n",
        "from nltk.corpus import stopwords\n",
        "import matplotlib.pyplot as plt\n",
        "from collections import Counter\n",
        "\n",
        "from sklearn.model_selection import train_test_split\n",
        "from tensorflow.keras.preprocessing.text import Tokenizer\n",
        "from tensorflow.keras.preprocessing.sequence import pad_sequences\n",
        "import keras\n",
        "from tensorflow.keras import layers\n",
        "import numpy as np"
      ],
      "execution_count": null,
      "outputs": []
    },
    {
      "cell_type": "code",
      "metadata": {
        "id": "QmGZTFQRsP1U"
      },
      "source": [
        "df = pd.read_csv('rap_r&b.csv') #load table"
      ],
      "execution_count": null,
      "outputs": []
    },
    {
      "cell_type": "code",
      "metadata": {
        "id": "_ZIyvFeWK9dz"
      },
      "source": [
        "#drop unnecessary columns from table\n",
        "df = df.drop('Unnamed: 0', axis=1)\n",
        "df = df.drop_duplicates(subset=['Title'], ignore_index=True)\n",
        "df = df.drop_duplicates(subset=['Lyrics'], ignore_index=True)\n",
        "df = df.dropna(how='any')"
      ],
      "execution_count": null,
      "outputs": []
    },
    {
      "cell_type": "code",
      "metadata": {
        "id": "jdFgRWV3wF24"
      },
      "source": [
        "#clean text for analysis/training\n",
        "punc = \"!()-[]{};:\\,<>./?@#$%^&*_~\"\n",
        "def clean(text): \n",
        "  for letter in str(text):\n",
        "    if letter in punc:  \n",
        "        text = text.replace(letter, \"\")\n",
        "  return(str(text).lower())"
      ],
      "execution_count": null,
      "outputs": []
    },
    {
      "cell_type": "code",
      "metadata": {
        "id": "vspwAf33wUDm"
      },
      "source": [
        "df['Lyrics'] = df['Lyrics'].map(lambda text: clean(text))"
      ],
      "execution_count": null,
      "outputs": []
    },
    {
      "cell_type": "code",
      "metadata": {
        "colab": {
          "base_uri": "https://localhost:8080/",
          "height": 419
        },
        "id": "kRt45QNqgbfl",
        "outputId": "e3c0d1ce-5a18-4a93-96cd-7812ace6e9e2"
      },
      "source": [
        "df"
      ],
      "execution_count": null,
      "outputs": [
        {
          "output_type": "execute_result",
          "data": {
            "text/html": [
              "<div>\n",
              "<style scoped>\n",
              "    .dataframe tbody tr th:only-of-type {\n",
              "        vertical-align: middle;\n",
              "    }\n",
              "\n",
              "    .dataframe tbody tr th {\n",
              "        vertical-align: top;\n",
              "    }\n",
              "\n",
              "    .dataframe thead th {\n",
              "        text-align: right;\n",
              "    }\n",
              "</style>\n",
              "<table border=\"1\" class=\"dataframe\">\n",
              "  <thead>\n",
              "    <tr style=\"text-align: right;\">\n",
              "      <th></th>\n",
              "      <th>Title</th>\n",
              "      <th>Lyrics</th>\n",
              "      <th>Genre</th>\n",
              "    </tr>\n",
              "  </thead>\n",
              "  <tbody>\n",
              "    <tr>\n",
              "      <th>0</th>\n",
              "      <td>anxiety</td>\n",
              "      <td>at the end of the day i still thank god for ev...</td>\n",
              "      <td>Rap</td>\n",
              "    </tr>\n",
              "    <tr>\n",
              "      <th>1</th>\n",
              "      <td>conversations</td>\n",
              "      <td>oh my god ronny  the devil hit my phone he wan...</td>\n",
              "      <td>Rap</td>\n",
              "    </tr>\n",
              "    <tr>\n",
              "      <th>2</th>\n",
              "      <td>titanic</td>\n",
              "      <td>dy definitely krazy  abandon all ships its abo...</td>\n",
              "      <td>Rap</td>\n",
              "    </tr>\n",
              "    <tr>\n",
              "      <th>3</th>\n",
              "      <td>bad energy</td>\n",
              "      <td>uh uh uhuh uhuh uh uh daytrip took it to ten h...</td>\n",
              "      <td>Rap</td>\n",
              "    </tr>\n",
              "    <tr>\n",
              "      <th>4</th>\n",
              "      <td>righteous</td>\n",
              "      <td>i will will i will i will i will  uh uh  all w...</td>\n",
              "      <td>Rap</td>\n",
              "    </tr>\n",
              "    <tr>\n",
              "      <th>...</th>\n",
              "      <td>...</td>\n",
              "      <td>...</td>\n",
              "      <td>...</td>\n",
              "    </tr>\n",
              "    <tr>\n",
              "      <th>1941</th>\n",
              "      <td>mad russian</td>\n",
              "      <td>wop mmmmurda  i still fuck her like a mad russ...</td>\n",
              "      <td>Rap</td>\n",
              "    </tr>\n",
              "    <tr>\n",
              "      <th>1942</th>\n",
              "      <td>hard feelings</td>\n",
              "      <td>southside on the track yeah evil genius gucci ...</td>\n",
              "      <td>Rap</td>\n",
              "    </tr>\n",
              "    <tr>\n",
              "      <th>1943</th>\n",
              "      <td>lord</td>\n",
              "      <td>dy krazy lord wop its gucci  im praying to the...</td>\n",
              "      <td>Rap</td>\n",
              "    </tr>\n",
              "    <tr>\n",
              "      <th>1944</th>\n",
              "      <td>money callin</td>\n",
              "      <td>guwap huh hah evil genius hah guwap  guwap fre...</td>\n",
              "      <td>Rap</td>\n",
              "    </tr>\n",
              "    <tr>\n",
              "      <th>1945</th>\n",
              "      <td>kept back</td>\n",
              "      <td>gucci mane  lil pump huh its gucci ooh huh wop...</td>\n",
              "      <td>Rap</td>\n",
              "    </tr>\n",
              "  </tbody>\n",
              "</table>\n",
              "<p>1945 rows × 3 columns</p>\n",
              "</div>"
            ],
            "text/plain": [
              "              Title                                             Lyrics Genre\n",
              "0           anxiety  at the end of the day i still thank god for ev...   Rap\n",
              "1     conversations  oh my god ronny  the devil hit my phone he wan...   Rap\n",
              "2           titanic  dy definitely krazy  abandon all ships its abo...   Rap\n",
              "3        bad energy  uh uh uhuh uhuh uh uh daytrip took it to ten h...   Rap\n",
              "4         righteous  i will will i will i will i will  uh uh  all w...   Rap\n",
              "...             ...                                                ...   ...\n",
              "1941    mad russian  wop mmmmurda  i still fuck her like a mad russ...   Rap\n",
              "1942  hard feelings  southside on the track yeah evil genius gucci ...   Rap\n",
              "1943           lord  dy krazy lord wop its gucci  im praying to the...   Rap\n",
              "1944   money callin  guwap huh hah evil genius hah guwap  guwap fre...   Rap\n",
              "1945      kept back  gucci mane  lil pump huh its gucci ooh huh wop...   Rap\n",
              "\n",
              "[1945 rows x 3 columns]"
            ]
          },
          "metadata": {
            "tags": []
          },
          "execution_count": 17
        }
      ]
    },
    {
      "cell_type": "markdown",
      "metadata": {
        "id": "Hf-g7AyPLGnO"
      },
      "source": [
        "First, we can remove stopwords, or words that are very commonly used and don't provide much information in regards to understanding sentiment of text."
      ]
    },
    {
      "cell_type": "code",
      "metadata": {
        "colab": {
          "base_uri": "https://localhost:8080/"
        },
        "id": "vJ7IHzcRxr_8",
        "outputId": "e523782d-f19f-42e2-8e88-56a7d5d2ea20"
      },
      "source": [
        "nltk.download(\"stopwords\")\n",
        "swords = set(stopwords.words(\"english\"))\n",
        "swords = [i.replace(\"'\", \"\") for i in swords] #remove apostrophes from stopwords to match the removal from the lyrics\n",
        "\n",
        "def remove_stopwords(text):\n",
        "  filtered_words = [word.lower() for word in text.split() if word.lower() not in swords]\n",
        "  return \" \".join(filtered_words)"
      ],
      "execution_count": null,
      "outputs": [
        {
          "output_type": "stream",
          "text": [
            "[nltk_data] Downloading package stopwords to /root/nltk_data...\n",
            "[nltk_data]   Unzipping corpora/stopwords.zip.\n"
          ],
          "name": "stdout"
        }
      ]
    },
    {
      "cell_type": "code",
      "metadata": {
        "id": "RhJko0XzyaFB"
      },
      "source": [
        "df['Lyrics'] = df['Lyrics'].map(lambda text: remove_stopwords(text))"
      ],
      "execution_count": null,
      "outputs": []
    },
    {
      "cell_type": "markdown",
      "metadata": {
        "id": "EMllf2NG_NTD"
      },
      "source": [
        "The first bit of analysis I wanted to do was to look at how the most commonly used words in each genre vary"
      ]
    },
    {
      "cell_type": "code",
      "metadata": {
        "id": "8yAVVoS2ynCW"
      },
      "source": [
        "def count_words(column):\n",
        "  count = Counter()\n",
        "  for lyrics in column.values:\n",
        "    for word in lyrics.split():\n",
        "      count[word] += 1\n",
        "  return count"
      ],
      "execution_count": null,
      "outputs": []
    },
    {
      "cell_type": "code",
      "metadata": {
        "id": "vlUGbC-P0JUr"
      },
      "source": [
        "counter_all = count_words(df['Lyrics'])\n",
        "rap_counter = count_words(df.loc[df['Genre'] == 'Rap']['Lyrics'])\n",
        "rb_counter = count_words(df.loc[df['Genre'] == 'R&B']['Lyrics'])\n",
        "\n",
        "rap_common_words = []\n",
        "rap_common_words_counts = []\n",
        "rb_common_words = []\n",
        "rb_common_words_counts = []\n",
        "\n",
        "for i in range(10):\n",
        "  rap_common_words.append(rap_counter.most_common(10)[i][0])\n",
        "  rap_common_words_counts.append(rap_counter.most_common(10)[i][1])\n",
        "  rb_common_words.append(rb_counter.most_common(10)[i][0])\n",
        "  rb_common_words_counts.append(rb_counter.most_common(10)[i][1])"
      ],
      "execution_count": null,
      "outputs": []
    },
    {
      "cell_type": "code",
      "metadata": {
        "colab": {
          "base_uri": "https://localhost:8080/",
          "height": 407
        },
        "id": "7qnp9xtO0Abq",
        "outputId": "0eeca4e8-78c0-4d81-96e3-4f71cfe8713d"
      },
      "source": [
        "#create plots\n",
        "plt.figure(figsize=(14,6))\n",
        "plt.subplot(1, 2, 1)\n",
        "plt.bar(rap_common_words, rap_common_words_counts)\n",
        "plt.title(\"Rap's 10 Most Common Words\")\n",
        "plt.subplot(1, 2, 2)\n",
        "plt.bar(rb_common_words, rb_common_words_counts)\n",
        "plt.title(\"R&B's 10 Most Common Words\")"
      ],
      "execution_count": null,
      "outputs": [
        {
          "output_type": "execute_result",
          "data": {
            "text/plain": [
              "Text(0.5, 1.0, \"R&B's 10 Most Common Words\")"
            ]
          },
          "metadata": {
            "tags": []
          },
          "execution_count": 28
        },
        {
          "output_type": "display_data",
          "data": {
            "image/png": "[encoded data removed]",
            "text/plain": [
              "<Figure size 1008x432 with 2 Axes>"
            ]
          },
          "metadata": {
            "tags": [],
            "needs_background": "light"
          }
        }
      ]
    },
    {
      "cell_type": "markdown",
      "metadata": {
        "id": "PSlr8jBQ_uPu"
      },
      "source": [
        "At this point, I realized that I could probably get away with not using every word in each song to train my RNN, and I could instead use certain keywords that are more or less distinct to each genre. To accomplish this, I decided (after testing many different values) to define our dictionary of words to be the 50 most common words in Rap and the 50 most common words in R&B. I removed every word not in this dictionary from each song's lyrics. This simplified our model by a massive margin, resulting in it being much more efficient and accurate."
      ]
    },
    {
      "cell_type": "code",
      "metadata": {
        "id": "CQx1eV0lblJf"
      },
      "source": [
        "num_words_included = 50"
      ],
      "execution_count": null,
      "outputs": []
    },
    {
      "cell_type": "code",
      "metadata": {
        "id": "F2GcO5W9z-JZ"
      },
      "source": [
        "rb_most_common = rb_counter.most_common(num_words_included)\n",
        "rap_most_common = rap_counter.most_common(num_words_included)\n",
        "most_common = []\n",
        "\n",
        "for i in range(num_words_included):\n",
        "  most_common.append(rb_most_common[i][0])\n",
        "  most_common.append(rap_most_common[i][0])\n",
        "most_common = list(set(most_common)) #make sure list is unique"
      ],
      "execution_count": null,
      "outputs": []
    },
    {
      "cell_type": "code",
      "metadata": {
        "id": "qEjg0oRMML27"
      },
      "source": [
        "def remove_uncommon_words(text):\n",
        "  filtered_words = [word.lower() for word in text.split() if word.lower() in most_common]\n",
        "  return \" \".join(filtered_words)"
      ],
      "execution_count": null,
      "outputs": []
    },
    {
      "cell_type": "code",
      "metadata": {
        "id": "gAqiwVVDcQwl"
      },
      "source": [
        "df['Lyrics'] = df['Lyrics'].map(lambda text: remove_uncommon_words(text))"
      ],
      "execution_count": null,
      "outputs": []
    },
    {
      "cell_type": "code",
      "metadata": {
        "colab": {
          "base_uri": "https://localhost:8080/",
          "height": 419
        },
        "id": "Lb6-lGJ-cSzO",
        "outputId": "caf35ff5-fb68-48b6-c6f0-13393c036000"
      },
      "source": [
        "df = df.dropna(how='any') #drop columns that became empty after removal of words\n",
        "df"
      ],
      "execution_count": null,
      "outputs": [
        {
          "output_type": "execute_result",
          "data": {
            "text/html": [
              "<div>\n",
              "<style scoped>\n",
              "    .dataframe tbody tr th:only-of-type {\n",
              "        vertical-align: middle;\n",
              "    }\n",
              "\n",
              "    .dataframe tbody tr th {\n",
              "        vertical-align: top;\n",
              "    }\n",
              "\n",
              "    .dataframe thead th {\n",
              "        text-align: right;\n",
              "    }\n",
              "</style>\n",
              "<table border=\"1\" class=\"dataframe\">\n",
              "  <thead>\n",
              "    <tr style=\"text-align: right;\">\n",
              "      <th></th>\n",
              "      <th>Title</th>\n",
              "      <th>Lyrics</th>\n",
              "      <th>Genre</th>\n",
              "    </tr>\n",
              "  </thead>\n",
              "  <tbody>\n",
              "    <tr>\n",
              "      <th>0</th>\n",
              "      <td>anxiety</td>\n",
              "      <td>still know put money like know good got money ...</td>\n",
              "      <td>Rap</td>\n",
              "    </tr>\n",
              "    <tr>\n",
              "      <th>1</th>\n",
              "      <td>conversations</td>\n",
              "      <td>oh hit wanna im gotta make see back im got got...</td>\n",
              "      <td>Rap</td>\n",
              "    </tr>\n",
              "    <tr>\n",
              "      <th>2</th>\n",
              "      <td>titanic</td>\n",
              "      <td>go im right good good yeah show got gotta keep...</td>\n",
              "      <td>Rap</td>\n",
              "    </tr>\n",
              "    <tr>\n",
              "      <th>3</th>\n",
              "      <td>bad energy</td>\n",
              "      <td>uh uh uh uh see got keep night said im feel li...</td>\n",
              "      <td>Rap</td>\n",
              "    </tr>\n",
              "    <tr>\n",
              "      <th>4</th>\n",
              "      <td>righteous</td>\n",
              "      <td>uh uh im yeah know yeah right yeah yeah ooh ti...</td>\n",
              "      <td>Rap</td>\n",
              "    </tr>\n",
              "    <tr>\n",
              "      <th>...</th>\n",
              "      <td>...</td>\n",
              "      <td>...</td>\n",
              "      <td>...</td>\n",
              "    </tr>\n",
              "    <tr>\n",
              "      <th>1941</th>\n",
              "      <td>mad russian</td>\n",
              "      <td>still fuck like hit got cause aint yeah one on...</td>\n",
              "      <td>Rap</td>\n",
              "    </tr>\n",
              "    <tr>\n",
              "      <th>1942</th>\n",
              "      <td>hard feelings</td>\n",
              "      <td>yeah go aint get got em show got money need co...</td>\n",
              "      <td>Rap</td>\n",
              "    </tr>\n",
              "    <tr>\n",
              "      <th>1943</th>\n",
              "      <td>lord</td>\n",
              "      <td>im get see uh im know see im get see huh im kn...</td>\n",
              "      <td>Rap</td>\n",
              "    </tr>\n",
              "    <tr>\n",
              "      <th>1944</th>\n",
              "      <td>money callin</td>\n",
              "      <td>huh im huh im ive ive money like em uh get huh...</td>\n",
              "      <td>Rap</td>\n",
              "    </tr>\n",
              "    <tr>\n",
              "      <th>1945</th>\n",
              "      <td>kept back</td>\n",
              "      <td>lil huh ooh huh lil yeah ooh uh em like cant g...</td>\n",
              "      <td>Rap</td>\n",
              "    </tr>\n",
              "  </tbody>\n",
              "</table>\n",
              "<p>1945 rows × 3 columns</p>\n",
              "</div>"
            ],
            "text/plain": [
              "              Title                                             Lyrics Genre\n",
              "0           anxiety  still know put money like know good got money ...   Rap\n",
              "1     conversations  oh hit wanna im gotta make see back im got got...   Rap\n",
              "2           titanic  go im right good good yeah show got gotta keep...   Rap\n",
              "3        bad energy  uh uh uh uh see got keep night said im feel li...   Rap\n",
              "4         righteous  uh uh im yeah know yeah right yeah yeah ooh ti...   Rap\n",
              "...             ...                                                ...   ...\n",
              "1941    mad russian  still fuck like hit got cause aint yeah one on...   Rap\n",
              "1942  hard feelings  yeah go aint get got em show got money need co...   Rap\n",
              "1943           lord  im get see uh im know see im get see huh im kn...   Rap\n",
              "1944   money callin  huh im huh im ive ive money like em uh get huh...   Rap\n",
              "1945      kept back  lil huh ooh huh lil yeah ooh uh em like cant g...   Rap\n",
              "\n",
              "[1945 rows x 3 columns]"
            ]
          },
          "metadata": {
            "tags": []
          },
          "execution_count": 34
        }
      ]
    },
    {
      "cell_type": "markdown",
      "metadata": {
        "id": "w3cL4RgOMNrL"
      },
      "source": [
        "Now it is time to set up the data for the model"
      ]
    },
    {
      "cell_type": "code",
      "metadata": {
        "id": "2nQgeSKm_vri"
      },
      "source": [
        "num_unique_words = len(most_common)\n",
        "max_length = df['Lyrics'].str.split().str.len().max() #determine max word count of all words remaining in songs"
      ],
      "execution_count": null,
      "outputs": []
    },
    {
      "cell_type": "code",
      "metadata": {
        "id": "AWT28cB6388W"
      },
      "source": [
        "df['Genre'] = df['Genre'].replace({'Rap': 0, 'R&B': 1}) #encode labels"
      ],
      "execution_count": null,
      "outputs": []
    },
    {
      "cell_type": "code",
      "metadata": {
        "colab": {
          "base_uri": "https://localhost:8080/",
          "height": 419
        },
        "id": "Y_IFYnHl42if",
        "outputId": "f1efd858-eeff-4e11-c8f4-5f367b0f3280"
      },
      "source": [
        "df"
      ],
      "execution_count": null,
      "outputs": [
        {
          "output_type": "execute_result",
          "data": {
            "text/html": [
              "<div>\n",
              "<style scoped>\n",
              "    .dataframe tbody tr th:only-of-type {\n",
              "        vertical-align: middle;\n",
              "    }\n",
              "\n",
              "    .dataframe tbody tr th {\n",
              "        vertical-align: top;\n",
              "    }\n",
              "\n",
              "    .dataframe thead th {\n",
              "        text-align: right;\n",
              "    }\n",
              "</style>\n",
              "<table border=\"1\" class=\"dataframe\">\n",
              "  <thead>\n",
              "    <tr style=\"text-align: right;\">\n",
              "      <th></th>\n",
              "      <th>Title</th>\n",
              "      <th>Lyrics</th>\n",
              "      <th>Genre</th>\n",
              "    </tr>\n",
              "  </thead>\n",
              "  <tbody>\n",
              "    <tr>\n",
              "      <th>0</th>\n",
              "      <td>anxiety</td>\n",
              "      <td>still know put money like know good got money ...</td>\n",
              "      <td>0</td>\n",
              "    </tr>\n",
              "    <tr>\n",
              "      <th>1</th>\n",
              "      <td>conversations</td>\n",
              "      <td>oh hit wanna im gotta make see back im got got...</td>\n",
              "      <td>0</td>\n",
              "    </tr>\n",
              "    <tr>\n",
              "      <th>2</th>\n",
              "      <td>titanic</td>\n",
              "      <td>go im right good good yeah show got gotta keep...</td>\n",
              "      <td>0</td>\n",
              "    </tr>\n",
              "    <tr>\n",
              "      <th>3</th>\n",
              "      <td>bad energy</td>\n",
              "      <td>uh uh uh uh see got keep night said im feel li...</td>\n",
              "      <td>0</td>\n",
              "    </tr>\n",
              "    <tr>\n",
              "      <th>4</th>\n",
              "      <td>righteous</td>\n",
              "      <td>uh uh im yeah know yeah right yeah yeah ooh ti...</td>\n",
              "      <td>0</td>\n",
              "    </tr>\n",
              "    <tr>\n",
              "      <th>...</th>\n",
              "      <td>...</td>\n",
              "      <td>...</td>\n",
              "      <td>...</td>\n",
              "    </tr>\n",
              "    <tr>\n",
              "      <th>1941</th>\n",
              "      <td>mad russian</td>\n",
              "      <td>still fuck like hit got cause aint yeah one on...</td>\n",
              "      <td>0</td>\n",
              "    </tr>\n",
              "    <tr>\n",
              "      <th>1942</th>\n",
              "      <td>hard feelings</td>\n",
              "      <td>yeah go aint get got em show got money need co...</td>\n",
              "      <td>0</td>\n",
              "    </tr>\n",
              "    <tr>\n",
              "      <th>1943</th>\n",
              "      <td>lord</td>\n",
              "      <td>im get see uh im know see im get see huh im kn...</td>\n",
              "      <td>0</td>\n",
              "    </tr>\n",
              "    <tr>\n",
              "      <th>1944</th>\n",
              "      <td>money callin</td>\n",
              "      <td>huh im huh im ive ive money like em uh get huh...</td>\n",
              "      <td>0</td>\n",
              "    </tr>\n",
              "    <tr>\n",
              "      <th>1945</th>\n",
              "      <td>kept back</td>\n",
              "      <td>lil huh ooh huh lil yeah ooh uh em like cant g...</td>\n",
              "      <td>0</td>\n",
              "    </tr>\n",
              "  </tbody>\n",
              "</table>\n",
              "<p>1945 rows × 3 columns</p>\n",
              "</div>"
            ],
            "text/plain": [
              "              Title                                             Lyrics  Genre\n",
              "0           anxiety  still know put money like know good got money ...      0\n",
              "1     conversations  oh hit wanna im gotta make see back im got got...      0\n",
              "2           titanic  go im right good good yeah show got gotta keep...      0\n",
              "3        bad energy  uh uh uh uh see got keep night said im feel li...      0\n",
              "4         righteous  uh uh im yeah know yeah right yeah yeah ooh ti...      0\n",
              "...             ...                                                ...    ...\n",
              "1941    mad russian  still fuck like hit got cause aint yeah one on...      0\n",
              "1942  hard feelings  yeah go aint get got em show got money need co...      0\n",
              "1943           lord  im get see uh im know see im get see huh im kn...      0\n",
              "1944   money callin  huh im huh im ive ive money like em uh get huh...      0\n",
              "1945      kept back  lil huh ooh huh lil yeah ooh uh em like cant g...      0\n",
              "\n",
              "[1945 rows x 3 columns]"
            ]
          },
          "metadata": {
            "tags": []
          },
          "execution_count": 38
        }
      ]
    },
    {
      "cell_type": "markdown",
      "metadata": {
        "id": "frLMuo1NBU0x"
      },
      "source": [
        "I created this histogram to better determine an acceptable input size for our RNN (shown later in code). I ended up determining that 75 words was a good size."
      ]
    },
    {
      "cell_type": "code",
      "metadata": {
        "colab": {
          "base_uri": "https://localhost:8080/",
          "height": 316
        },
        "id": "ZNPJyA1Y0sNz",
        "outputId": "b2b8cf29-a5cc-441c-f2a4-e146da46336b"
      },
      "source": [
        "df['totalwords'] = df['Lyrics'].str.split().str.len()\n",
        "plt.hist(df.totalwords, bins=[0,25,50,75,100,125,150,175,200])"
      ],
      "execution_count": null,
      "outputs": [
        {
          "output_type": "execute_result",
          "data": {
            "text/plain": [
              "(array([174., 308., 447., 423., 275., 180.,  85.,  29.]),\n",
              " array([  0,  25,  50,  75, 100, 125, 150, 175, 200]),\n",
              " <a list of 8 Patch objects>)"
            ]
          },
          "metadata": {
            "tags": []
          },
          "execution_count": 40
        },
        {
          "output_type": "display_data",
          "data": {
            "image/png": "[encoded data removed]",
            "text/plain": [
              "<Figure size 432x288 with 1 Axes>"
            ]
          },
          "metadata": {
            "tags": [],
            "needs_background": "light"
          }
        }
      ]
    },
    {
      "cell_type": "code",
      "metadata": {
        "colab": {
          "base_uri": "https://localhost:8080/"
        },
        "id": "3pHKE-_PAvWG",
        "outputId": "b549e5bc-b091-43d6-e07d-1588d745ab6a"
      },
      "source": [
        "X = df[['Lyrics']]\n",
        "y = df['Genre']\n",
        "\n",
        "X_train, X_test, y_train, y_test = train_test_split(X, y, test_size=0.20, random_state=42)\n",
        "\n",
        "#tokenize the text to convert to numeric values for model\n",
        "tokenizer = Tokenizer(num_words = num_unique_words)\n",
        "tokenizer.fit_on_texts(X_train['Lyrics'])\n",
        "windex = tokenizer.word_index\n",
        "\n",
        "X_train = tokenizer.texts_to_sequences(X_train['Lyrics'])\n",
        "X_test = tokenizer.texts_to_sequences(X_test['Lyrics'])\n",
        "\n",
        "y_train = y_train.to_numpy()\n",
        "y_test = y_test.to_numpy()\n",
        "\n",
        "#pad text for model\n",
        "X_train = pad_sequences(X_train, maxlen=75, padding=\"post\", truncating=\"post\") #maxlen will be our RNN input size (as mentioned previously)\n",
        "X_test = pad_sequences(X_test, maxlen=75, padding=\"post\", truncating=\"post\")\n",
        "\n",
        "print(X_train.shape, X_test.shape)"
      ],
      "execution_count": null,
      "outputs": [
        {
          "output_type": "stream",
          "text": [
            "(1556, 75) (389, 75)\n"
          ],
          "name": "stdout"
        }
      ]
    },
    {
      "cell_type": "code",
      "metadata": {
        "colab": {
          "base_uri": "https://localhost:8080/"
        },
        "id": "KUxPxD-Vqen5",
        "outputId": "1524b9fe-2b2b-4bc3-b952-25d451dfe924"
      },
      "source": [
        "X_train[5] #as we can see everything after the 75th word has been cut off"
      ],
      "execution_count": null,
      "outputs": [
        {
          "output_type": "execute_result",
          "data": {
            "text/plain": [
              "array([41,  4, 37, 30,  5, 10,  4,  4,  4, 55,  3,  5,  3,  5,  3, 55,  5,\n",
              "       14, 17, 55, 17, 17, 17, 23, 16, 16,  4, 17, 30,  1,  1, 31, 22, 24,\n",
              "       16, 16,  3, 35,  2,  2, 24,  3, 35, 56,  2,  3, 28,  7, 17,  3, 16,\n",
              "       16,  4, 14,  7, 13, 17,  8, 20, 55, 17, 39,  4,  3,  3, 16, 16, 37,\n",
              "        6, 37, 16, 13, 27,  8, 37], dtype=int32)"
            ]
          },
          "metadata": {
            "tags": []
          },
          "execution_count": 50
        }
      ]
    },
    {
      "cell_type": "markdown",
      "metadata": {
        "id": "kDci9IubNZzB"
      },
      "source": [
        "Now that the data is ready, we can build and train the model"
      ]
    },
    {
      "cell_type": "code",
      "metadata": {
        "colab": {
          "base_uri": "https://localhost:8080/"
        },
        "id": "o6ARbW4vCHOc",
        "outputId": "42f640d0-4b06-4a62-a480-008bf63d33b9"
      },
      "source": [
        "model = keras.models.Sequential()\n",
        "model.add(layers.Embedding(num_unique_words, 32, input_length=75))\n",
        "model.add(layers.LSTM(64))\n",
        "model.add(layers.Dense(1, activation=\"sigmoid\"))\n",
        "model.summary()"
      ],
      "execution_count": null,
      "outputs": [
        {
          "output_type": "stream",
          "text": [
            "Model: \"sequential\"\n",
            "_________________________________________________________________\n",
            "Layer (type)                 Output Shape              Param #   \n",
            "=================================================================\n",
            "embedding (Embedding)        (None, 75, 32)            2080      \n",
            "_________________________________________________________________\n",
            "lstm (LSTM)                  (None, 64)                24832     \n",
            "_________________________________________________________________\n",
            "dense (Dense)                (None, 1)                 65        \n",
            "=================================================================\n",
            "Total params: 26,977\n",
            "Trainable params: 26,977\n",
            "Non-trainable params: 0\n",
            "_________________________________________________________________\n"
          ],
          "name": "stdout"
        }
      ]
    },
    {
      "cell_type": "code",
      "metadata": {
        "id": "GyzfPKipC8i3"
      },
      "source": [
        "loss = keras.losses.BinaryCrossentropy(from_logits=False)\n",
        "optimizer = keras.optimizers.Adam(lr=0.00025)\n",
        "metrics = [\"accuracy\"]\n",
        "model.compile(loss=loss, optimizer=optimizer, metrics=metrics)"
      ],
      "execution_count": null,
      "outputs": []
    },
    {
      "cell_type": "code",
      "metadata": {
        "colab": {
          "base_uri": "https://localhost:8080/"
        },
        "id": "TOUa0hJcDVql",
        "outputId": "728669a7-d4d2-40e8-bb9a-6c0f3f1ed5eb"
      },
      "source": [
        "history = model.fit(X_train, y_train, validation_data=(X_test, y_test), epochs=20, verbose=2)"
      ],
      "execution_count": null,
      "outputs": [
        {
          "output_type": "stream",
          "text": [
            "Epoch 1/20\n",
            "49/49 - 5s - loss: 0.6784 - accuracy: 0.6542 - val_loss: 0.6474 - val_accuracy: 0.6710\n",
            "Epoch 2/20\n",
            "49/49 - 2s - loss: 0.5423 - accuracy: 0.7326 - val_loss: 0.4520 - val_accuracy: 0.8021\n",
            "Epoch 3/20\n",
            "49/49 - 2s - loss: 0.4408 - accuracy: 0.8246 - val_loss: 0.4350 - val_accuracy: 0.8149\n",
            "Epoch 4/20\n",
            "49/49 - 2s - loss: 0.3959 - accuracy: 0.8380 - val_loss: 0.4207 - val_accuracy: 0.8175\n",
            "Epoch 5/20\n",
            "49/49 - 2s - loss: 0.3797 - accuracy: 0.8425 - val_loss: 0.4211 - val_accuracy: 0.8201\n",
            "Epoch 6/20\n",
            "49/49 - 2s - loss: 0.3753 - accuracy: 0.8522 - val_loss: 0.4084 - val_accuracy: 0.8303\n",
            "Epoch 7/20\n",
            "49/49 - 2s - loss: 0.3663 - accuracy: 0.8522 - val_loss: 0.4205 - val_accuracy: 0.8149\n",
            "Epoch 8/20\n",
            "49/49 - 2s - loss: 0.3643 - accuracy: 0.8496 - val_loss: 0.3909 - val_accuracy: 0.8329\n",
            "Epoch 9/20\n",
            "49/49 - 2s - loss: 0.3596 - accuracy: 0.8554 - val_loss: 0.3913 - val_accuracy: 0.8226\n",
            "Epoch 10/20\n",
            "49/49 - 2s - loss: 0.3564 - accuracy: 0.8528 - val_loss: 0.3688 - val_accuracy: 0.8483\n",
            "Epoch 11/20\n",
            "49/49 - 2s - loss: 0.3469 - accuracy: 0.8528 - val_loss: 0.3638 - val_accuracy: 0.8509\n",
            "Epoch 12/20\n",
            "49/49 - 2s - loss: 0.3520 - accuracy: 0.8599 - val_loss: 0.3578 - val_accuracy: 0.8638\n",
            "Epoch 13/20\n",
            "49/49 - 2s - loss: 0.3456 - accuracy: 0.8573 - val_loss: 0.3542 - val_accuracy: 0.8509\n",
            "Epoch 14/20\n",
            "49/49 - 2s - loss: 0.3480 - accuracy: 0.8644 - val_loss: 0.3715 - val_accuracy: 0.8458\n",
            "Epoch 15/20\n",
            "49/49 - 2s - loss: 0.3418 - accuracy: 0.8599 - val_loss: 0.3596 - val_accuracy: 0.8586\n",
            "Epoch 16/20\n",
            "49/49 - 2s - loss: 0.3384 - accuracy: 0.8612 - val_loss: 0.3518 - val_accuracy: 0.8560\n",
            "Epoch 17/20\n",
            "49/49 - 2s - loss: 0.3390 - accuracy: 0.8605 - val_loss: 0.3531 - val_accuracy: 0.8586\n",
            "Epoch 18/20\n",
            "49/49 - 2s - loss: 0.3364 - accuracy: 0.8625 - val_loss: 0.3615 - val_accuracy: 0.8509\n",
            "Epoch 19/20\n",
            "49/49 - 2s - loss: 0.3329 - accuracy: 0.8612 - val_loss: 0.3528 - val_accuracy: 0.8560\n",
            "Epoch 20/20\n",
            "49/49 - 2s - loss: 0.3330 - accuracy: 0.8638 - val_loss: 0.3537 - val_accuracy: 0.8509\n"
          ],
          "name": "stdout"
        }
      ]
    },
    {
      "cell_type": "code",
      "metadata": {
        "colab": {
          "base_uri": "https://localhost:8080/",
          "height": 573
        },
        "id": "UNeSVUkSB-OH",
        "outputId": "d3b1bd43-237a-42c2-b684-c4937600142f"
      },
      "source": [
        "#plot history for accuracy\n",
        "plt.plot(history.history['accuracy'])\n",
        "plt.plot(history.history['val_accuracy'])\n",
        "plt.title('model accuracy')\n",
        "plt.ylabel('accuracy')\n",
        "plt.xlabel('epoch')\n",
        "plt.legend(['train', 'test'])\n",
        "plt.show()\n",
        "\n",
        "#plot history for loss\n",
        "plt.plot(history.history['loss'])\n",
        "plt.plot(history.history['val_loss'])\n",
        "plt.title('model loss')\n",
        "plt.ylabel('loss')\n",
        "plt.xlabel('epoch')\n",
        "plt.legend(['train', 'test'])\n",
        "plt.show()"
      ],
      "execution_count": null,
      "outputs": [
        {
          "output_type": "display_data",
          "data": {
            "image/png": "[encoded data removed]",
            "text/plain": [
              "<Figure size 432x288 with 1 Axes>"
            ]
          },
          "metadata": {
            "tags": [],
            "needs_background": "light"
          }
        },
        {
          "output_type": "display_data",
          "data": {
            "image/png": "[encoded data removed]",
            "text/plain": [
              "<Figure size 432x288 with 1 Axes>"
            ]
          },
          "metadata": {
            "tags": [],
            "needs_background": "light"
          }
        }
      ]
    },
    {
      "cell_type": "markdown",
      "metadata": {
        "id": "rgv6AGcpEp0e"
      },
      "source": [
        "The training and testing accuracy are still close in value to one another, so it appears that our model is not overfit"
      ]
    },
    {
      "cell_type": "markdown",
      "metadata": {
        "id": "BM9fepn3T99F"
      },
      "source": [
        "We can now make predictions for new songs"
      ]
    },
    {
      "cell_type": "code",
      "metadata": {
        "colab": {
          "base_uri": "https://localhost:8080/"
        },
        "id": "yJPi_DCaCccT",
        "outputId": "bca8e456-2760-4ccc-8b92-5f53076abde3"
      },
      "source": [
        "song_for_prediction = 'https://www.musixmatch.com/lyrics/Kendrick-Lamar/Alright'\n",
        "\n",
        "#get lyrics\n",
        "request = urllib.request.Request(song_for_prediction,headers={'User-Agent': user_agent})\n",
        "html = urllib.request.urlopen(request).read()\n",
        "match_lyrics = re.search('\\\"lyrics\\\":.*?body\\\":\\\"(.*?)\\\",', str(html))\n",
        "lyrics = match_lyrics.group(1)\n",
        "lyrics = re.sub(r\"\\\\n\", ' ', lyrics)\n",
        "lyrics = re.sub(r\"\\\\+\", '', lyrics)\n",
        "lyrics_final = re.sub(r\"'\", \"\", str(lyrics))\n",
        "\n",
        "#clean lyrics\n",
        "lyrics_final = clean(lyrics_final)\n",
        "lyrics_final = remove_stopwords(lyrics_final)\n",
        "lyrics_final = remove_uncommon_words(lyrics_final)\n",
        "\n",
        "#format lyrics to pass into model\n",
        "lyrics_list_format = [str(lyrics_final)]\n",
        "lyrics_tokenized = tokenizer.texts_to_sequences(lyrics_list_format)\n",
        "lyrics_tokenized = np.asarray(lyrics_tokenized)\n",
        "lyrics_tokenized_and_padded = pad_sequences(lyrics_tokenized, maxlen=75, padding=\"post\", truncating=\"post\")\n",
        "\n",
        "#predict\n",
        "if model.predict(lyrics_tokenized_and_padded)[0][0] >= 0.5:\n",
        "  print('R&B')\n",
        "else:\n",
        "  print('Rap')"
      ],
      "execution_count": null,
      "outputs": [
        {
          "output_type": "stream",
          "text": [
            "Rap\n"
          ],
          "name": "stdout"
        }
      ]
    }
  ]
}